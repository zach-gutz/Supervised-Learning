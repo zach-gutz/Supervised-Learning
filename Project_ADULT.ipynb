{
 "cells": [
  {
   "cell_type": "markdown",
   "metadata": {},
   "source": [
    "# Project_ADULT, Zachariah Gutierrez"
   ]
  },
  {
   "cell_type": "markdown",
   "metadata": {},
   "source": [
    "## Dataset information\n",
    "\n",
    "Name: Adult <br>\n",
    "Data Type: Multivariate <br>\n",
    "Default Task: Classification <br>\n",
    "Attribute Types: categorical, integer <br>\n",
    "No. Instances: 48842 <br>\n",
    "No. Attributes: 14 <br>\n",
    "Year: 1996 <br>\n",
    "Task: Determine whether a person makes over 50K a year based on census data using SVM, KNN, and Random Forests"
   ]
  },
  {
   "cell_type": "markdown",
   "metadata": {},
   "source": [
    "## Imports and functions"
   ]
  },
  {
   "cell_type": "code",
   "execution_count": 1,
   "metadata": {},
   "outputs": [],
   "source": [
    "import warnings\n",
    "import numpy as np\n",
    "import pandas as pd\n",
    "import seaborn as sns\n",
    "import matplotlib.pyplot as plt\n",
    "from sklearn import preprocessing\n",
    "from sklearn.svm import LinearSVC\n",
    "from sklearn.neighbors import KNeighborsClassifier\n",
    "from sklearn.model_selection import train_test_split, GridSearchCV"
   ]
  },
  {
   "cell_type": "code",
   "execution_count": 2,
   "metadata": {},
   "outputs": [],
   "source": [
    "with warnings.catch_warnings():\n",
    "    warnings.simplefilter(\"ignore\", category=DeprecationWarning)\n",
    "    from sklearn.ensemble import RandomForestClassifier"
   ]
  },
  {
   "cell_type": "code",
   "execution_count": 3,
   "metadata": {},
   "outputs": [],
   "source": [
    "# heatmap for LinearSVC\n",
    "def draw_heatmap_linear(acc, acc_desc, C_list):\n",
    "    plt.figure(figsize = (2,4))\n",
    "    ax = sns.heatmap(acc, annot=True, fmt='.3f', yticklabels=C_list, xticklabels=[])\n",
    "    ax.collections[0].colorbar.set_label(\"accuracy\")\n",
    "    ax.set(ylabel='$C$')\n",
    "    plt.title(acc_desc + ' w.r.t $C$')\n",
    "    sns.set_style(\"whitegrid\", {'axes.grid' : False})\n",
    "    plt.show()\n",
    "\n",
    "# heatmap for K-NearestNeighbors\n",
    "def draw_heatmap_knn(acc, acc_desc, k_list):\n",
    "    plt.figure(figsize = (2,4))\n",
    "    ax = sns.heatmap(acc, annot=True, fmt='.3f', yticklabels=k_list, xticklabels=[])\n",
    "    ax.collections[0].colorbar.set_label(\"accuracy\")\n",
    "    ax.set(ylabel='$k$')\n",
    "    plt.title(acc_desc + ' w.r.t $k$')\n",
    "    sns.set_style(\"whitegrid\", {'axes.grid' : False})\n",
    "    plt.show()\n",
    "    \n",
    "# heatmap for RandomForest\n",
    "def draw_heatmap_rf(acc, acc_desc, p_list):\n",
    "    plt.figure(figsize = (2,4))\n",
    "    ax = sns.heatmap(acc, annot=True, fmt='.3f', yticklabels=p_list, xticklabels=[])\n",
    "    ax.collections[0].colorbar.set_label(\"accuracy\")\n",
    "    ax.set(ylabel='$params$')\n",
    "    plt.title(acc_desc + ' w.r.t $params$')\n",
    "    sns.set_style(\"whitegrid\", {'axes.grid' : False})\n",
    "    plt.show()"
   ]
  },
  {
   "cell_type": "markdown",
   "metadata": {},
   "source": [
    "## Load and transform the data"
   ]
  },
  {
   "cell_type": "code",
   "execution_count": 4,
   "metadata": {
    "scrolled": false
   },
   "outputs": [
    {
     "name": "stdout",
     "output_type": "stream",
     "text": [
      "Shape of original data is: (32561, 15)\n"
     ]
    }
   ],
   "source": [
    "# import the data and set the column names\n",
    "X_and_y = pd.read_csv('adult.data.txt', header=None)\n",
    "X_and_y.columns = ['age','workclass','fnlwgt','education','education-num','marital-status','occupation','relationship',\n",
    "              'race','sex','capital-gain','capital-loss','hours-per-week','native-country','income']\n",
    "\n",
    "print('Shape of original data is:', X_and_y.shape)\n",
    "\n",
    "# shuffle the data then split X and y\n",
    "X_and_y = X_and_y.sample(frac=1).reset_index(drop=True)\n",
    "X = X_and_y.iloc[:,0:14]\n",
    "y = X_and_y.iloc[:,-1]"
   ]
  },
  {
   "cell_type": "code",
   "execution_count": 5,
   "metadata": {},
   "outputs": [
    {
     "data": {
      "text/html": [
       "<div>\n",
       "<style scoped>\n",
       "    .dataframe tbody tr th:only-of-type {\n",
       "        vertical-align: middle;\n",
       "    }\n",
       "\n",
       "    .dataframe tbody tr th {\n",
       "        vertical-align: top;\n",
       "    }\n",
       "\n",
       "    .dataframe thead th {\n",
       "        text-align: right;\n",
       "    }\n",
       "</style>\n",
       "<table border=\"1\" class=\"dataframe\">\n",
       "  <thead>\n",
       "    <tr style=\"text-align: right;\">\n",
       "      <th></th>\n",
       "      <th>age</th>\n",
       "      <th>workclass</th>\n",
       "      <th>fnlwgt</th>\n",
       "      <th>education</th>\n",
       "      <th>education-num</th>\n",
       "      <th>marital-status</th>\n",
       "      <th>occupation</th>\n",
       "      <th>relationship</th>\n",
       "      <th>race</th>\n",
       "      <th>sex</th>\n",
       "      <th>capital-gain</th>\n",
       "      <th>capital-loss</th>\n",
       "      <th>hours-per-week</th>\n",
       "      <th>native-country</th>\n",
       "      <th>income</th>\n",
       "    </tr>\n",
       "  </thead>\n",
       "  <tbody>\n",
       "    <tr>\n",
       "      <th>0</th>\n",
       "      <td>21</td>\n",
       "      <td>Private</td>\n",
       "      <td>169699</td>\n",
       "      <td>Some-college</td>\n",
       "      <td>10</td>\n",
       "      <td>Never-married</td>\n",
       "      <td>Other-service</td>\n",
       "      <td>Not-in-family</td>\n",
       "      <td>White</td>\n",
       "      <td>Female</td>\n",
       "      <td>0</td>\n",
       "      <td>0</td>\n",
       "      <td>35</td>\n",
       "      <td>United-States</td>\n",
       "      <td>&lt;=50K</td>\n",
       "    </tr>\n",
       "    <tr>\n",
       "      <th>1</th>\n",
       "      <td>38</td>\n",
       "      <td>Self-emp-not-inc</td>\n",
       "      <td>203836</td>\n",
       "      <td>5th-6th</td>\n",
       "      <td>3</td>\n",
       "      <td>Never-married</td>\n",
       "      <td>Transport-moving</td>\n",
       "      <td>Not-in-family</td>\n",
       "      <td>White</td>\n",
       "      <td>Male</td>\n",
       "      <td>0</td>\n",
       "      <td>0</td>\n",
       "      <td>40</td>\n",
       "      <td>United-States</td>\n",
       "      <td>&lt;=50K</td>\n",
       "    </tr>\n",
       "    <tr>\n",
       "      <th>2</th>\n",
       "      <td>28</td>\n",
       "      <td>Private</td>\n",
       "      <td>25955</td>\n",
       "      <td>Assoc-voc</td>\n",
       "      <td>11</td>\n",
       "      <td>Divorced</td>\n",
       "      <td>Craft-repair</td>\n",
       "      <td>Not-in-family</td>\n",
       "      <td>Amer-Indian-Eskimo</td>\n",
       "      <td>Male</td>\n",
       "      <td>0</td>\n",
       "      <td>0</td>\n",
       "      <td>40</td>\n",
       "      <td>United-States</td>\n",
       "      <td>&lt;=50K</td>\n",
       "    </tr>\n",
       "    <tr>\n",
       "      <th>3</th>\n",
       "      <td>45</td>\n",
       "      <td>Private</td>\n",
       "      <td>90758</td>\n",
       "      <td>Bachelors</td>\n",
       "      <td>13</td>\n",
       "      <td>Married-civ-spouse</td>\n",
       "      <td>Exec-managerial</td>\n",
       "      <td>Husband</td>\n",
       "      <td>White</td>\n",
       "      <td>Male</td>\n",
       "      <td>0</td>\n",
       "      <td>0</td>\n",
       "      <td>55</td>\n",
       "      <td>United-States</td>\n",
       "      <td>&gt;50K</td>\n",
       "    </tr>\n",
       "    <tr>\n",
       "      <th>4</th>\n",
       "      <td>31</td>\n",
       "      <td>Self-emp-not-inc</td>\n",
       "      <td>119411</td>\n",
       "      <td>HS-grad</td>\n",
       "      <td>9</td>\n",
       "      <td>Never-married</td>\n",
       "      <td>Craft-repair</td>\n",
       "      <td>Own-child</td>\n",
       "      <td>White</td>\n",
       "      <td>Male</td>\n",
       "      <td>0</td>\n",
       "      <td>0</td>\n",
       "      <td>50</td>\n",
       "      <td>United-States</td>\n",
       "      <td>&lt;=50K</td>\n",
       "    </tr>\n",
       "  </tbody>\n",
       "</table>\n",
       "</div>"
      ],
      "text/plain": [
       "   age          workclass  fnlwgt      education  education-num  \\\n",
       "0   21            Private  169699   Some-college             10   \n",
       "1   38   Self-emp-not-inc  203836        5th-6th              3   \n",
       "2   28            Private   25955      Assoc-voc             11   \n",
       "3   45            Private   90758      Bachelors             13   \n",
       "4   31   Self-emp-not-inc  119411        HS-grad              9   \n",
       "\n",
       "        marital-status         occupation    relationship  \\\n",
       "0        Never-married      Other-service   Not-in-family   \n",
       "1        Never-married   Transport-moving   Not-in-family   \n",
       "2             Divorced       Craft-repair   Not-in-family   \n",
       "3   Married-civ-spouse    Exec-managerial         Husband   \n",
       "4        Never-married       Craft-repair       Own-child   \n",
       "\n",
       "                  race      sex  capital-gain  capital-loss  hours-per-week  \\\n",
       "0                White   Female             0             0              35   \n",
       "1                White     Male             0             0              40   \n",
       "2   Amer-Indian-Eskimo     Male             0             0              40   \n",
       "3                White     Male             0             0              55   \n",
       "4                White     Male             0             0              50   \n",
       "\n",
       "   native-country  income  \n",
       "0   United-States   <=50K  \n",
       "1   United-States   <=50K  \n",
       "2   United-States   <=50K  \n",
       "3   United-States    >50K  \n",
       "4   United-States   <=50K  "
      ]
     },
     "execution_count": 5,
     "metadata": {},
     "output_type": "execute_result"
    }
   ],
   "source": [
    "# inspect the data\n",
    "X_and_y.head()"
   ]
  },
  {
   "cell_type": "code",
   "execution_count": 6,
   "metadata": {},
   "outputs": [
    {
     "data": {
      "text/html": [
       "<div>\n",
       "<style scoped>\n",
       "    .dataframe tbody tr th:only-of-type {\n",
       "        vertical-align: middle;\n",
       "    }\n",
       "\n",
       "    .dataframe tbody tr th {\n",
       "        vertical-align: top;\n",
       "    }\n",
       "\n",
       "    .dataframe thead th {\n",
       "        text-align: right;\n",
       "    }\n",
       "</style>\n",
       "<table border=\"1\" class=\"dataframe\">\n",
       "  <thead>\n",
       "    <tr style=\"text-align: right;\">\n",
       "      <th></th>\n",
       "      <th>age</th>\n",
       "      <th>fnlwgt</th>\n",
       "      <th>education-num</th>\n",
       "      <th>capital-gain</th>\n",
       "      <th>capital-loss</th>\n",
       "      <th>hours-per-week</th>\n",
       "      <th>workclass_ ?</th>\n",
       "      <th>workclass_ Federal-gov</th>\n",
       "      <th>workclass_ Local-gov</th>\n",
       "      <th>workclass_ Never-worked</th>\n",
       "      <th>...</th>\n",
       "      <th>native-country_ Portugal</th>\n",
       "      <th>native-country_ Puerto-Rico</th>\n",
       "      <th>native-country_ Scotland</th>\n",
       "      <th>native-country_ South</th>\n",
       "      <th>native-country_ Taiwan</th>\n",
       "      <th>native-country_ Thailand</th>\n",
       "      <th>native-country_ Trinadad&amp;Tobago</th>\n",
       "      <th>native-country_ United-States</th>\n",
       "      <th>native-country_ Vietnam</th>\n",
       "      <th>native-country_ Yugoslavia</th>\n",
       "    </tr>\n",
       "  </thead>\n",
       "  <tbody>\n",
       "    <tr>\n",
       "      <th>0</th>\n",
       "      <td>21</td>\n",
       "      <td>169699</td>\n",
       "      <td>10</td>\n",
       "      <td>0</td>\n",
       "      <td>0</td>\n",
       "      <td>35</td>\n",
       "      <td>0</td>\n",
       "      <td>0</td>\n",
       "      <td>0</td>\n",
       "      <td>0</td>\n",
       "      <td>...</td>\n",
       "      <td>0</td>\n",
       "      <td>0</td>\n",
       "      <td>0</td>\n",
       "      <td>0</td>\n",
       "      <td>0</td>\n",
       "      <td>0</td>\n",
       "      <td>0</td>\n",
       "      <td>1</td>\n",
       "      <td>0</td>\n",
       "      <td>0</td>\n",
       "    </tr>\n",
       "    <tr>\n",
       "      <th>1</th>\n",
       "      <td>38</td>\n",
       "      <td>203836</td>\n",
       "      <td>3</td>\n",
       "      <td>0</td>\n",
       "      <td>0</td>\n",
       "      <td>40</td>\n",
       "      <td>0</td>\n",
       "      <td>0</td>\n",
       "      <td>0</td>\n",
       "      <td>0</td>\n",
       "      <td>...</td>\n",
       "      <td>0</td>\n",
       "      <td>0</td>\n",
       "      <td>0</td>\n",
       "      <td>0</td>\n",
       "      <td>0</td>\n",
       "      <td>0</td>\n",
       "      <td>0</td>\n",
       "      <td>1</td>\n",
       "      <td>0</td>\n",
       "      <td>0</td>\n",
       "    </tr>\n",
       "    <tr>\n",
       "      <th>2</th>\n",
       "      <td>28</td>\n",
       "      <td>25955</td>\n",
       "      <td>11</td>\n",
       "      <td>0</td>\n",
       "      <td>0</td>\n",
       "      <td>40</td>\n",
       "      <td>0</td>\n",
       "      <td>0</td>\n",
       "      <td>0</td>\n",
       "      <td>0</td>\n",
       "      <td>...</td>\n",
       "      <td>0</td>\n",
       "      <td>0</td>\n",
       "      <td>0</td>\n",
       "      <td>0</td>\n",
       "      <td>0</td>\n",
       "      <td>0</td>\n",
       "      <td>0</td>\n",
       "      <td>1</td>\n",
       "      <td>0</td>\n",
       "      <td>0</td>\n",
       "    </tr>\n",
       "    <tr>\n",
       "      <th>3</th>\n",
       "      <td>45</td>\n",
       "      <td>90758</td>\n",
       "      <td>13</td>\n",
       "      <td>0</td>\n",
       "      <td>0</td>\n",
       "      <td>55</td>\n",
       "      <td>0</td>\n",
       "      <td>0</td>\n",
       "      <td>0</td>\n",
       "      <td>0</td>\n",
       "      <td>...</td>\n",
       "      <td>0</td>\n",
       "      <td>0</td>\n",
       "      <td>0</td>\n",
       "      <td>0</td>\n",
       "      <td>0</td>\n",
       "      <td>0</td>\n",
       "      <td>0</td>\n",
       "      <td>1</td>\n",
       "      <td>0</td>\n",
       "      <td>0</td>\n",
       "    </tr>\n",
       "    <tr>\n",
       "      <th>4</th>\n",
       "      <td>31</td>\n",
       "      <td>119411</td>\n",
       "      <td>9</td>\n",
       "      <td>0</td>\n",
       "      <td>0</td>\n",
       "      <td>50</td>\n",
       "      <td>0</td>\n",
       "      <td>0</td>\n",
       "      <td>0</td>\n",
       "      <td>0</td>\n",
       "      <td>...</td>\n",
       "      <td>0</td>\n",
       "      <td>0</td>\n",
       "      <td>0</td>\n",
       "      <td>0</td>\n",
       "      <td>0</td>\n",
       "      <td>0</td>\n",
       "      <td>0</td>\n",
       "      <td>1</td>\n",
       "      <td>0</td>\n",
       "      <td>0</td>\n",
       "    </tr>\n",
       "  </tbody>\n",
       "</table>\n",
       "<p>5 rows × 108 columns</p>\n",
       "</div>"
      ],
      "text/plain": [
       "   age  fnlwgt  education-num  capital-gain  capital-loss  hours-per-week  \\\n",
       "0   21  169699             10             0             0              35   \n",
       "1   38  203836              3             0             0              40   \n",
       "2   28   25955             11             0             0              40   \n",
       "3   45   90758             13             0             0              55   \n",
       "4   31  119411              9             0             0              50   \n",
       "\n",
       "   workclass_ ?  workclass_ Federal-gov  workclass_ Local-gov  \\\n",
       "0             0                       0                     0   \n",
       "1             0                       0                     0   \n",
       "2             0                       0                     0   \n",
       "3             0                       0                     0   \n",
       "4             0                       0                     0   \n",
       "\n",
       "   workclass_ Never-worked             ...              \\\n",
       "0                        0             ...               \n",
       "1                        0             ...               \n",
       "2                        0             ...               \n",
       "3                        0             ...               \n",
       "4                        0             ...               \n",
       "\n",
       "   native-country_ Portugal  native-country_ Puerto-Rico  \\\n",
       "0                         0                            0   \n",
       "1                         0                            0   \n",
       "2                         0                            0   \n",
       "3                         0                            0   \n",
       "4                         0                            0   \n",
       "\n",
       "   native-country_ Scotland  native-country_ South  native-country_ Taiwan  \\\n",
       "0                         0                      0                       0   \n",
       "1                         0                      0                       0   \n",
       "2                         0                      0                       0   \n",
       "3                         0                      0                       0   \n",
       "4                         0                      0                       0   \n",
       "\n",
       "   native-country_ Thailand  native-country_ Trinadad&Tobago  \\\n",
       "0                         0                                0   \n",
       "1                         0                                0   \n",
       "2                         0                                0   \n",
       "3                         0                                0   \n",
       "4                         0                                0   \n",
       "\n",
       "   native-country_ United-States  native-country_ Vietnam  \\\n",
       "0                              1                        0   \n",
       "1                              1                        0   \n",
       "2                              1                        0   \n",
       "3                              1                        0   \n",
       "4                              1                        0   \n",
       "\n",
       "   native-country_ Yugoslavia  \n",
       "0                           0  \n",
       "1                           0  \n",
       "2                           0  \n",
       "3                           0  \n",
       "4                           0  \n",
       "\n",
       "[5 rows x 108 columns]"
      ]
     },
     "execution_count": 6,
     "metadata": {},
     "output_type": "execute_result"
    }
   ],
   "source": [
    "# one-hot encode the data (dummy variables)\n",
    "X = pd.get_dummies(X)\n",
    "X.head()"
   ]
  },
  {
   "cell_type": "code",
   "execution_count": 7,
   "metadata": {},
   "outputs": [
    {
     "data": {
      "text/plain": [
       "0     <=50K\n",
       "1     <=50K\n",
       "2     <=50K\n",
       "3      >50K\n",
       "4     <=50K\n",
       "Name: income, dtype: object"
      ]
     },
     "execution_count": 7,
     "metadata": {},
     "output_type": "execute_result"
    }
   ],
   "source": [
    "y.head()"
   ]
  },
  {
   "cell_type": "code",
   "execution_count": 8,
   "metadata": {},
   "outputs": [
    {
     "data": {
      "text/html": [
       "<div>\n",
       "<style scoped>\n",
       "    .dataframe tbody tr th:only-of-type {\n",
       "        vertical-align: middle;\n",
       "    }\n",
       "\n",
       "    .dataframe tbody tr th {\n",
       "        vertical-align: top;\n",
       "    }\n",
       "\n",
       "    .dataframe thead th {\n",
       "        text-align: right;\n",
       "    }\n",
       "</style>\n",
       "<table border=\"1\" class=\"dataframe\">\n",
       "  <thead>\n",
       "    <tr style=\"text-align: right;\">\n",
       "      <th></th>\n",
       "      <th>income</th>\n",
       "    </tr>\n",
       "  </thead>\n",
       "  <tbody>\n",
       "    <tr>\n",
       "      <th>0</th>\n",
       "      <td>1</td>\n",
       "    </tr>\n",
       "    <tr>\n",
       "      <th>1</th>\n",
       "      <td>1</td>\n",
       "    </tr>\n",
       "    <tr>\n",
       "      <th>2</th>\n",
       "      <td>1</td>\n",
       "    </tr>\n",
       "    <tr>\n",
       "      <th>3</th>\n",
       "      <td>0</td>\n",
       "    </tr>\n",
       "    <tr>\n",
       "      <th>4</th>\n",
       "      <td>1</td>\n",
       "    </tr>\n",
       "  </tbody>\n",
       "</table>\n",
       "</div>"
      ],
      "text/plain": [
       "  income\n",
       "0      1\n",
       "1      1\n",
       "2      1\n",
       "3      0\n",
       "4      1"
      ]
     },
     "execution_count": 8,
     "metadata": {},
     "output_type": "execute_result"
    }
   ],
   "source": [
    "# Binarize y (maybe not neccessary)\n",
    "y = y.to_frame().transpose()        \n",
    "\n",
    "for i in y:\n",
    "    if y[i][0] == ' <=50K':\n",
    "        y[i][0] = 1\n",
    "    elif y[i][0] == ' >50K':\n",
    "        y[i][0] = 0\n",
    "        \n",
    "y = y.transpose()   # wouldn't work without transposing...\n",
    "y.head()                "
   ]
  },
  {
   "cell_type": "code",
   "execution_count": 9,
   "metadata": {},
   "outputs": [],
   "source": [
    "# converts dataframes to np arrays\n",
    "X = X.values    \n",
    "y = y.values"
   ]
  },
  {
   "cell_type": "code",
   "execution_count": 10,
   "metadata": {},
   "outputs": [],
   "source": [
    "# reshape y and change from object type\n",
    "y = y.reshape(32561,)   # 32561 is original row count \n",
    "y = y.astype('int')     # y was an object, convert to int to avoid error"
   ]
  },
  {
   "cell_type": "markdown",
   "metadata": {},
   "source": [
    "## Train the models (SVM, KNN, & RandomForest)"
   ]
  },
  {
   "cell_type": "code",
   "execution_count": 11,
   "metadata": {},
   "outputs": [],
   "source": [
    "final_score_svm = []\n",
    "final_score_knn = []\n",
    "final_score_rf = []"
   ]
  },
  {
   "cell_type": "markdown",
   "metadata": {},
   "source": [
    "### Adult 20/80"
   ]
  },
  {
   "cell_type": "code",
   "execution_count": 12,
   "metadata": {},
   "outputs": [
    {
     "name": "stdout",
     "output_type": "stream",
     "text": [
      "Training three classifiers using three trials on Adult.data, split=20/80...\n",
      "(Accuracy scores are listed with respect to their individual hyperparameters.)\n",
      "\n",
      "For trial # 1\n",
      "The SVM training accuracy is [0.67128725 0.38071471 0.4799054  0.78209454 0.56712066]\n",
      "The SVM testing accuracy is [0.6722973  0.38252457 0.48049754 0.78178747 0.56526413]\n",
      "\n",
      "The KNN training accuracy is [1.         0.85400019 0.84939373 0.82298069 0.81990924 0.81376671\n",
      " 0.81015802]\n",
      "The KNN testing accuracy is [0.70316339 0.61839681 0.75015356 0.71007371 0.77288084 0.75383907\n",
      " 0.78286241]\n",
      "\n",
      "The RF training accuracy is [0.82843257 0.82816414 0.84217616 0.84351966 0.82386301 0.82570601\n",
      " 0.84206074 0.84244475]\n",
      "The RF testing accuracy is [0.82616708 0.82493857 0.83645577 0.8367629  0.81864251 0.8215602\n",
      " 0.83722359 0.8355344 ]\n",
      "\n",
      "For trial # 2\n",
      "The SVM training accuracy is [0.67441432 0.69967659 0.57679833 0.70451395 0.67664475]\n",
      "The SVM testing accuracy is [0.67675061 0.69993857 0.57754914 0.70347052 0.67367936]\n",
      "\n",
      "The KNN training accuracy is [1.         0.85741725 0.85281022 0.82758765 0.82071564 0.81273033\n",
      " 0.80981251]\n",
      "The KNN testing accuracy is [0.70515971 0.62960688 0.74493243 0.70500614 0.76719902 0.74308968\n",
      " 0.77856265]\n",
      "\n",
      "The RF training accuracy is [0.828202   0.8282787  0.84259847 0.843865   0.82394086 0.82785617\n",
      " 0.83956568 0.84309745]\n",
      "The RF testing accuracy is [0.82355651 0.82309582 0.83753071 0.8404484  0.81848894 0.8252457\n",
      " 0.83584152 0.83875921]\n",
      "\n",
      "For trial # 3\n",
      "The SVM training accuracy is [0.47201638 0.47320688 0.56451217 0.68564743 0.57328481]\n",
      "The SVM testing accuracy is [0.47619779 0.47159091 0.56434275 0.68550369 0.57248157]\n",
      "\n",
      "The KNN training accuracy is [1.         0.84931651 0.84720502 0.81983265 0.81484183 0.80789317\n",
      " 0.80282553]\n",
      "The KNN testing accuracy is [0.69732801 0.61317568 0.73341523 0.69026413 0.75721744 0.73402948\n",
      " 0.76796683]\n",
      "\n",
      "The RF training accuracy is [0.82132992 0.81868092 0.83549612 0.83657104 0.81879612 0.818412\n",
      " 0.83545753 0.83515047]\n",
      "The RF testing accuracy is [0.81679975 0.81603194 0.83123464 0.83123464 0.814957   0.81726044\n",
      " 0.83015971 0.83200246]\n",
      "\n",
      "Reporting the average testing accuracies for all models...\n",
      "\n",
      "For C = [0.1, 1.0, 10.0, 100.0, 1000.0] ...\n",
      "The average test accuracy for SVM is [0.60841523 0.51801802 0.54079648 0.72358722 0.60380835]\n",
      "\n",
      "For K = [1, 2, 3, 4, 5, 6, 7] ...\n",
      "The average test accuracy for KNN is [0.7018837  0.62039312 0.74283374 0.70178133 0.76576577 0.74365274\n",
      " 0.77646396]\n",
      "\n",
      "For the different parameters of Random Forest...\n",
      "0    {'criterion': 'gini', 'max_depth': 4, 'max_fea...\n",
      "1    {'criterion': 'gini', 'max_depth': 4, 'max_fea...\n",
      "2    {'criterion': 'gini', 'max_depth': 5, 'max_fea...\n",
      "3    {'criterion': 'gini', 'max_depth': 5, 'max_fea...\n",
      "4    {'criterion': 'entropy', 'max_depth': 4, 'max_...\n",
      "5    {'criterion': 'entropy', 'max_depth': 4, 'max_...\n",
      "6    {'criterion': 'entropy', 'max_depth': 5, 'max_...\n",
      "7    {'criterion': 'entropy', 'max_depth': 5, 'max_...\n",
      "Name: params, dtype: object\n",
      "The average test accuracy is [0.82217445 0.82135545 0.83507371 0.83614865 0.81736282 0.82135545\n",
      " 0.83440827 0.83543202]\n",
      "\n",
      "CPU times: user 2min 10s, sys: 1.09 s, total: 2min 11s\n",
      "Wall time: 1min 52s\n"
     ]
    }
   ],
   "source": [
    "%%time\n",
    "\n",
    "## Train every model on three random splits of 20/80\n",
    "\n",
    "## Note: The split is non-deterministic. Repeating three times with the\n",
    "## same split will give you somewhat different subsets. This is why three\n",
    "## trials are needed to reach a consistent conclusion by taking the average.\n",
    "\n",
    "print('Training three classifiers using three trials on Adult.data, split=20/80...')\n",
    "print('(Accuracy scores are listed with respect to their individual hyperparameters.)')\n",
    "\n",
    "# initialize the accuracy lists\n",
    "avg_test_acc_svm = np.zeros((1,5))  # 5 for each value of C penalties\n",
    "avg_test_acc_knn = np.zeros((1,7))  # 7 for each value of K neighbors\n",
    "avg_test_acc_rf = np.zeros((1,8))   # 8 for each parameter combo in RF\n",
    "\n",
    "for i in range(3):   # run three trials\n",
    "    \n",
    "    print('\\nFor trial #', i+1)\n",
    "    \n",
    "    # split data into training/testing (20/80)\n",
    "    X_train, X_test, y_train, y_test = train_test_split(X, y, test_size=0.80)\n",
    "    \n",
    "    # train SVM classifier\n",
    "    C_list = [10e-2, 10e-1, 10e0, 10e1, 10e2]\n",
    "    param_grid = {'C': C_list}\n",
    "    clf = LinearSVC()\n",
    "    SVM = GridSearchCV(clf, param_grid, cv=5, return_train_score = True)\n",
    "    SVM.fit(X_train, y_train)\n",
    "    train_acc_svm = SVM.cv_results_['mean_train_score']\n",
    "    test_acc_svm = SVM.cv_results_['mean_test_score']\n",
    "    train_acc_svm = np.asarray(train_acc_svm)\n",
    "    test_acc_svm = np.asarray(test_acc_svm)\n",
    "    print('The SVM training accuracy is',train_acc_svm)\n",
    "    print('The SVM testing accuracy is',test_acc_svm)\n",
    "    avg_test_acc_svm = np.vstack((avg_test_acc_svm, test_acc_svm))\n",
    "    \n",
    "    # train KNN classifier\n",
    "    K_list = list(range(1,8))         \n",
    "    param_grid = {'n_neighbors': K_list}\n",
    "    clf = KNeighborsClassifier()\n",
    "    KNN = GridSearchCV(clf, param_grid, cv=5, return_train_score = True)\n",
    "    KNN.fit(X_train, y_train)\n",
    "    train_acc_knn = KNN.cv_results_['mean_train_score']\n",
    "    test_acc_knn = KNN.cv_results_['mean_test_score']\n",
    "    train_acc_knn = np.asarray(train_acc_knn)\n",
    "    test_acc_knn = np.asarray(test_acc_knn)\n",
    "    print('\\nThe KNN training accuracy is',train_acc_knn)\n",
    "    print('The KNN testing accuracy is',test_acc_knn)\n",
    "    avg_test_acc_knn = np.vstack((avg_test_acc_knn, test_acc_knn))\n",
    "    \n",
    "    # train RandomForest classifier\n",
    "    param_grid = {'n_estimators': [100], 'max_features': ['auto', 'sqrt'],\n",
    "                  'max_depth': [4,5], 'criterion':['gini', 'entropy']}\n",
    "    clf = RandomForestClassifier()\n",
    "    RF = GridSearchCV(clf, param_grid, cv=5, return_train_score = True)\n",
    "    RF.fit(X_train, y_train)\n",
    "    RFdf = pd.DataFrame.from_dict(data=RF.cv_results_)\n",
    "    train_acc_rf = RF.cv_results_['mean_train_score']\n",
    "    test_acc_rf = RF.cv_results_['mean_test_score']\n",
    "    train_acc_rf = np.asarray(train_acc_rf)\n",
    "    test_acc_rf = np.asarray(test_acc_rf)\n",
    "    print('\\nThe RF training accuracy is',train_acc_rf)\n",
    "    print('The RF testing accuracy is',test_acc_rf)\n",
    "    avg_test_acc_rf = np.vstack((avg_test_acc_rf, test_acc_rf))\n",
    "    \n",
    "# Begin displaying the testing accuracies.\n",
    "print('\\nReporting the average testing accuracies for all models...')\n",
    "\n",
    "# Go through and delete first row of zeros (or else the avg suffers)\n",
    "avg_test_acc_svm = np.delete(avg_test_acc_svm, 0, axis=0)\n",
    "avg_test_acc_knn = np.delete(avg_test_acc_knn, 0, axis=0)\n",
    "avg_test_acc_rf = np.delete(avg_test_acc_rf, 0, axis=0)\n",
    "\n",
    "# SVM\n",
    "avg_test_acc_svm = np.mean(avg_test_acc_svm, axis=0)\n",
    "print('\\nFor C =', C_list,'...')\n",
    "print('The average test accuracy for SVM is', avg_test_acc_svm)\n",
    "\n",
    "# KNN\n",
    "avg_test_acc_knn = np.mean(avg_test_acc_knn, axis=0)\n",
    "print('\\nFor K =', K_list,'...')\n",
    "print('The average test accuracy for KNN is', avg_test_acc_knn)\n",
    "\n",
    "# RF\n",
    "params = RFdf['params']\n",
    "avg_test_acc_rf = np.mean(avg_test_acc_rf, axis=0)\n",
    "print('\\nFor the different parameters of Random Forest...')\n",
    "print(params)\n",
    "print('The average test accuracy is', avg_test_acc_rf)\n",
    "print()"
   ]
  },
  {
   "cell_type": "code",
   "execution_count": 13,
   "metadata": {},
   "outputs": [
    {
     "name": "stdout",
     "output_type": "stream",
     "text": [
      "The avg test scores for 20/80:\n",
      "SVM: 0.5989250614250614\n",
      "KNN: 0.7218249093249093\n",
      "RF: 0.8279138513513513\n"
     ]
    },
    {
     "data": {
      "image/png": "[encoded data removed]",
      "text/plain": [
       "<Figure size 144x288 with 2 Axes>"
      ]
     },
     "metadata": {
      "needs_background": "light"
     },
     "output_type": "display_data"
    },
    {
     "data": {
      "image/png": "[encoded data removed]",
      "text/plain": [
       "<Figure size 144x288 with 2 Axes>"
      ]
     },
     "metadata": {},
     "output_type": "display_data"
    },
    {
     "data": {
      "image/png": "[encoded data removed]",
      "text/plain": [
       "<Figure size 144x288 with 2 Axes>"
      ]
     },
     "metadata": {},
     "output_type": "display_data"
    }
   ],
   "source": [
    "## Plot the heatmaps\n",
    "\n",
    "print('The avg test scores for 20/80:')\n",
    "print('SVM:', np.mean(avg_test_acc_svm))\n",
    "print('KNN:', np.mean(avg_test_acc_knn))\n",
    "print('RF:', np.mean(avg_test_acc_rf))\n",
    "avg2080 = np.mean([np.mean(avg_test_acc_svm), np.mean(avg_test_acc_knn),\n",
    "                   np.mean(avg_test_acc_rf)])\n",
    "\n",
    "draw_heatmap_linear(avg_test_acc_svm.reshape(5,1), 'test_acc', C_list)\n",
    "draw_heatmap_knn(avg_test_acc_knn.reshape(7,1), 'test_acc', K_list)\n",
    "draw_heatmap_rf(avg_test_acc_rf.reshape(8,1), 'test_acc', params)"
   ]
  },
  {
   "cell_type": "code",
   "execution_count": 14,
   "metadata": {},
   "outputs": [
    {
     "name": "stdout",
     "output_type": "stream",
     "text": [
      "Best C for SVM on Adult is: 100.0\n",
      "Best K for KNN on Adult is: 7\n",
      "Best RandomForest parameters for Adult are {'criterion': 'entropy', 'max_depth': 5, 'max_features': 'sqrt', 'n_estimators': 100}\n"
     ]
    }
   ],
   "source": [
    "## Find the best hyperparameters\n",
    "\n",
    "# SVM - best C\n",
    "C_prime = SVM.best_params_['C']\n",
    "print('Best C for SVM on Adult is:', C_prime)\n",
    "\n",
    "# KNN - best K\n",
    "K_prime = KNN.best_params_['n_neighbors']\n",
    "print('Best K for KNN on Adult is:', K_prime)\n",
    "\n",
    "# RF - best parameters\n",
    "R_prime = RF.best_params_\n",
    "print('Best RandomForest parameters for Adult are', R_prime)"
   ]
  },
  {
   "cell_type": "code",
   "execution_count": 15,
   "metadata": {},
   "outputs": [
    {
     "name": "stdout",
     "output_type": "stream",
     "text": [
      "For Adult.data, 20/80 split...\n",
      "Test score for SVM is: 0.7856731544397098\n",
      "Test score for KNN is: 0.7785711543629315\n",
      "Test score for RF is: 0.8378440631118277\n"
     ]
    }
   ],
   "source": [
    "## Train the optimal classifiers using the best hyperparameters\n",
    "## Display final test scores\n",
    "\n",
    "# SVM\n",
    "SVM_prime = LinearSVC(C=C_prime)\n",
    "SVM_prime.fit(X_train, y_train)\n",
    "test_score_svm = SVM_prime.score(X_test, y_test)\n",
    "final_score_svm.append(test_score_svm)\n",
    "\n",
    "# KNN\n",
    "KNN_prime = KNeighborsClassifier(n_neighbors=K_prime)\n",
    "KNN_prime.fit(X_train, y_train)\n",
    "test_score_knn = KNN_prime.score(X_test, y_test)\n",
    "final_score_knn.append(test_score_knn)\n",
    "\n",
    "# RF\n",
    "RF_prime = RandomForestClassifier(criterion=R_prime['criterion'], max_depth=R_prime['max_depth'], \n",
    "                                  max_features=R_prime['max_features'], n_estimators=R_prime['n_estimators'])\n",
    "RF_prime.fit(X_train, y_train)\n",
    "test_score_rf = RF_prime.score(X_test, y_test)\n",
    "final_score_rf.append(test_score_rf)\n",
    "\n",
    "print('For Adult.data, 20/80 split...')\n",
    "print('Test score for SVM is:', test_score_svm)\n",
    "print('Test score for KNN is:', test_score_knn)\n",
    "print('Test score for RF is:', test_score_rf)"
   ]
  },
  {
   "cell_type": "markdown",
   "metadata": {},
   "source": [
    "### Adults 50/50"
   ]
  },
  {
   "cell_type": "code",
   "execution_count": 16,
   "metadata": {
    "scrolled": false
   },
   "outputs": [
    {
     "name": "stdout",
     "output_type": "stream",
     "text": [
      "Training three classifiers using three trials on Adult.data, split=50/50...\n",
      "(Accuracy scores are listed with respect to their individual hyperparameters.)\n",
      "\n",
      "For trial # 1\n",
      "The SVM training accuracy is [0.47628973 0.67966106 0.68328461 0.78599532 0.7901566 ]\n",
      "The SVM testing accuracy is [0.47506143 0.68083538 0.68439803 0.78703931 0.78998771]\n",
      "\n",
      "The KNN training accuracy is [1.         0.85744782 0.86010439 0.83203316 0.82940732 0.8197635\n",
      " 0.8172297 ]\n",
      "The KNN testing accuracy is [0.71977887 0.63826781 0.75694103 0.7218059  0.77641278 0.75651106\n",
      " 0.78458231]\n",
      "\n",
      "The RF training accuracy is [0.826259   0.82747235 0.84067873 0.83952701 0.81904172 0.82705803\n",
      " 0.84011051 0.84106266]\n",
      "The RF testing accuracy is [0.82463145 0.82610565 0.83906634 0.83771499 0.820086   0.8252457\n",
      " 0.83636364 0.83894349]\n",
      "\n",
      "For trial # 2\n",
      "The SVM training accuracy is [0.69233737 0.59318223 0.67310342 0.78754627 0.64086816]\n",
      "The SVM testing accuracy is [0.69164619 0.59514742 0.67223587 0.78777641 0.63992629]\n",
      "\n",
      "The KNN training accuracy is [0.99993857 0.85402339 0.85922911 0.83132672 0.83006751 0.81996309\n",
      " 0.8178286 ]\n",
      "The KNN testing accuracy is [0.71996314 0.64158477 0.75614251 0.71965602 0.77002457 0.74993857\n",
      " 0.78230958]\n",
      "\n",
      "The RF training accuracy is [0.82547613 0.82532242 0.8402488  0.83902034 0.81810512 0.8246468\n",
      " 0.83886672 0.83832927]\n",
      "The RF testing accuracy is [0.82285012 0.82211302 0.83839066 0.83734644 0.81762899 0.82334152\n",
      " 0.83605651 0.83593366]\n",
      "\n",
      "For trial # 3\n",
      "The SVM training accuracy is [0.68772195 0.78625593 0.63677188 0.67923043 0.59581447]\n",
      "The SVM testing accuracy is [0.68826781 0.78531941 0.63697789 0.68065111 0.5955774 ]\n",
      "\n",
      "The KNN training accuracy is [1.         0.84917077 0.85614244 0.82905402 0.8285319  0.81798225\n",
      " 0.81693797]\n",
      "The KNN testing accuracy is [0.70694103 0.63384521 0.75110565 0.71683047 0.7730344  0.75423833\n",
      " 0.78286241]\n",
      "\n",
      "The RF training accuracy is [0.81833539 0.8186121  0.83832939 0.84000305 0.82025516 0.82381763\n",
      " 0.83874396 0.83753078]\n",
      "The RF testing accuracy is [0.81756757 0.81750614 0.83710074 0.83599509 0.81744472 0.82088452\n",
      " 0.83753071 0.83550369]\n",
      "\n",
      "Reporting the average testing accuracies for all models...\n",
      "\n",
      "For C = [1e-06, 1e-05, 0.0001, 0.001, 0.01] ...\n",
      "The average test accuracy for SVM is [0.61832514 0.68710074 0.66453726 0.75182228 0.6751638 ]\n",
      "\n",
      "For K = [1, 2, 3, 4, 5, 6, 7] ...\n",
      "The average test accuracy for KNN is [0.71556102 0.63789926 0.75472973 0.71943079 0.77315725 0.75356265\n",
      " 0.78325143]\n",
      "\n",
      "For the different parameters of Random Forest...\n",
      "0    {'criterion': 'gini', 'max_depth': 4, 'max_fea...\n",
      "1    {'criterion': 'gini', 'max_depth': 4, 'max_fea...\n",
      "2    {'criterion': 'gini', 'max_depth': 5, 'max_fea...\n",
      "3    {'criterion': 'gini', 'max_depth': 5, 'max_fea...\n",
      "4    {'criterion': 'entropy', 'max_depth': 4, 'max_...\n",
      "5    {'criterion': 'entropy', 'max_depth': 4, 'max_...\n",
      "6    {'criterion': 'entropy', 'max_depth': 5, 'max_...\n",
      "7    {'criterion': 'entropy', 'max_depth': 5, 'max_...\n",
      "Name: params, dtype: object\n",
      "The average test accuracy is [0.82168305 0.82190827 0.83818591 0.83701884 0.81838657 0.82315725\n",
      " 0.83665029 0.83679361]\n",
      "\n",
      "CPU times: user 6min 39s, sys: 3.15 s, total: 6min 42s\n",
      "Wall time: 6min 32s\n"
     ]
    }
   ],
   "source": [
    "%%time\n",
    "\n",
    "## Train every model on three random splits of 50/50\n",
    "\n",
    "## Note: The split is non-deterministic. Repeating three times with the\n",
    "## same split will give you somewhat different subsets. This is why three\n",
    "## trials are needed to reach a consistent conclusion by taking the average.\n",
    "\n",
    "print('Training three classifiers using three trials on Adult.data, split=50/50...')\n",
    "print('(Accuracy scores are listed with respect to their individual hyperparameters.)')\n",
    "\n",
    "# initialize the accuracy lists\n",
    "avg_test_acc_svm = np.zeros((1,5))  # 5 for each value of C penalties\n",
    "avg_test_acc_knn = np.zeros((1,7))  # 7 for each value of K neighbors\n",
    "avg_test_acc_rf = np.zeros((1,8))   # 8 for each parameter combo in RF\n",
    "\n",
    "for i in range(3):   # run three trials\n",
    "    \n",
    "    print('\\nFor trial #', i+1)\n",
    "    \n",
    "    # split data into training/testing (50/50)\n",
    "    X_train, X_test, y_train, y_test = train_test_split(X, y, test_size=0.50)\n",
    "    \n",
    "    # train SVM classifier\n",
    "    C_list = [10e-7, 10e-6, 10e-5, 10e-4, 10e-3]\n",
    "    param_grid = {'C': C_list}\n",
    "    clf = LinearSVC()\n",
    "    SVM = GridSearchCV(clf, param_grid, cv=5, return_train_score = True)\n",
    "    SVM.fit(X_train, y_train)\n",
    "    train_acc_svm = SVM.cv_results_['mean_train_score']\n",
    "    test_acc_svm = SVM.cv_results_['mean_test_score']\n",
    "    train_acc_svm = np.asarray(train_acc_svm)\n",
    "    test_acc_svm = np.asarray(test_acc_svm)\n",
    "    print('The SVM training accuracy is',train_acc_svm)\n",
    "    print('The SVM testing accuracy is',test_acc_svm)\n",
    "    avg_test_acc_svm = np.vstack((avg_test_acc_svm, test_acc_svm))\n",
    "    \n",
    "    # train KNN classifier\n",
    "    K_list = list(range(1,8))\n",
    "    param_grid = {'n_neighbors': K_list}\n",
    "    clf = KNeighborsClassifier()\n",
    "    KNN = GridSearchCV(clf, param_grid, cv=5, return_train_score = True)\n",
    "    KNN.fit(X_train, y_train)\n",
    "    train_acc_knn = KNN.cv_results_['mean_train_score']\n",
    "    test_acc_knn = KNN.cv_results_['mean_test_score']\n",
    "    train_acc_knn = np.asarray(train_acc_knn)\n",
    "    test_acc_knn = np.asarray(test_acc_knn)\n",
    "    print('\\nThe KNN training accuracy is',train_acc_knn)\n",
    "    print('The KNN testing accuracy is',test_acc_knn)\n",
    "    avg_test_acc_knn = np.vstack((avg_test_acc_knn, test_acc_knn))\n",
    "    \n",
    "    # train RandomForest classifier\n",
    "    param_grid = {'n_estimators': [100], 'max_features': ['auto', 'sqrt'],\n",
    "                  'max_depth': [4,5], 'criterion':['gini', 'entropy']}\n",
    "    clf = RandomForestClassifier()\n",
    "    RF = GridSearchCV(clf, param_grid, cv=5, return_train_score = True)\n",
    "    RF.fit(X_train, y_train)\n",
    "    RFdf = pd.DataFrame.from_dict(data=RF.cv_results_)\n",
    "    train_acc_rf = RF.cv_results_['mean_train_score']\n",
    "    test_acc_rf = RF.cv_results_['mean_test_score']\n",
    "    train_acc_rf = np.asarray(train_acc_rf)\n",
    "    test_acc_rf = np.asarray(test_acc_rf)\n",
    "    print('\\nThe RF training accuracy is',train_acc_rf)\n",
    "    print('The RF testing accuracy is',test_acc_rf)\n",
    "    avg_test_acc_rf = np.vstack((avg_test_acc_rf, test_acc_rf))\n",
    "    \n",
    "# Begin displaying the testing accuracies.\n",
    "print('\\nReporting the average testing accuracies for all models...')\n",
    "\n",
    "# Go through and delete first row of zeros (or else the avg suffers)\n",
    "avg_test_acc_svm = np.delete(avg_test_acc_svm, 0, axis=0)\n",
    "avg_test_acc_knn = np.delete(avg_test_acc_knn, 0, axis=0)\n",
    "avg_test_acc_rf = np.delete(avg_test_acc_rf, 0, axis=0)\n",
    "\n",
    "# SVM\n",
    "avg_test_acc_svm = np.mean(avg_test_acc_svm, axis=0)\n",
    "print('\\nFor C =', C_list,'...')\n",
    "print('The average test accuracy for SVM is', avg_test_acc_svm)\n",
    "\n",
    "# KNN\n",
    "avg_test_acc_knn = np.mean(avg_test_acc_knn, axis=0)\n",
    "print('\\nFor K =', K_list,'...')\n",
    "print('The average test accuracy for KNN is', avg_test_acc_knn)\n",
    "\n",
    "# RF\n",
    "params = RFdf['params']\n",
    "avg_test_acc_rf = np.mean(avg_test_acc_rf, axis=0)\n",
    "print('\\nFor the different parameters of Random Forest...')\n",
    "print(params)\n",
    "print('The average test accuracy is', avg_test_acc_rf)\n",
    "print()"
   ]
  },
  {
   "cell_type": "code",
   "execution_count": 17,
   "metadata": {},
   "outputs": [
    {
     "name": "stdout",
     "output_type": "stream",
     "text": [
      "The avg test scores for 50/50:\n",
      "SVM: 0.6793898443898444\n",
      "KNN: 0.733941733941734\n",
      "RF: 0.829222972972973\n"
     ]
    },
    {
     "data": {
      "image/png": "[encoded data removed]",
      "text/plain": [
       "<Figure size 144x288 with 2 Axes>"
      ]
     },
     "metadata": {},
     "output_type": "display_data"
    },
    {
     "data": {
      "image/png": "[encoded data removed]",
      "text/plain": [
       "<Figure size 144x288 with 2 Axes>"
      ]
     },
     "metadata": {},
     "output_type": "display_data"
    },
    {
     "data": {
      "image/png": "[encoded data removed]",
      "text/plain": [
       "<Figure size 144x288 with 2 Axes>"
      ]
     },
     "metadata": {},
     "output_type": "display_data"
    }
   ],
   "source": [
    "## Plot the heatmaps\n",
    "\n",
    "print('The avg test scores for 50/50:')\n",
    "print('SVM:', np.mean(avg_test_acc_svm))\n",
    "print('KNN:', np.mean(avg_test_acc_knn))\n",
    "print('RF:', np.mean(avg_test_acc_rf))\n",
    "avg5050 = np.mean([np.mean(avg_test_acc_svm), np.mean(avg_test_acc_knn),\n",
    "                   np.mean(avg_test_acc_rf)])\n",
    "\n",
    "draw_heatmap_linear(avg_test_acc_svm.reshape(5,1), 'test_acc', C_list)\n",
    "draw_heatmap_knn(avg_test_acc_knn.reshape(7,1), 'test_acc', K_list)\n",
    "draw_heatmap_rf(avg_test_acc_rf.reshape(8,1), 'test_acc', params)"
   ]
  },
  {
   "cell_type": "code",
   "execution_count": 18,
   "metadata": {},
   "outputs": [
    {
     "name": "stdout",
     "output_type": "stream",
     "text": [
      "Best C for SVM on Adult is: 1e-05\n",
      "Best K for KNN on Adult is: 7\n",
      "Best RandomForest parameters for Adult are {'criterion': 'entropy', 'max_depth': 5, 'max_features': 'auto', 'n_estimators': 100}\n"
     ]
    }
   ],
   "source": [
    "## Find the best hyperparameters\n",
    "\n",
    "# SVM - best C\n",
    "C_prime = SVM.best_params_['C']\n",
    "print('Best C for SVM on Adult is:', C_prime)\n",
    "\n",
    "# KNN - best K\n",
    "K_prime = KNN.best_params_['n_neighbors']\n",
    "print('Best K for KNN on Adult is:', K_prime)\n",
    "\n",
    "# RF - best parameters\n",
    "R_prime = RF.best_params_\n",
    "print('Best RandomForest parameters for Adult are', R_prime)"
   ]
  },
  {
   "cell_type": "code",
   "execution_count": 19,
   "metadata": {},
   "outputs": [
    {
     "name": "stdout",
     "output_type": "stream",
     "text": [
      "For Adult.data, 50/50 split...\n",
      "Test score for SVM is: 0.7777163564891592\n",
      "Test score for KNN is: 0.7820158466924636\n",
      "Test score for RF is: 0.8374792703150912\n"
     ]
    }
   ],
   "source": [
    "## Train the optimal classifiers using the best hyperparameters\n",
    "## Display final test scores\n",
    "\n",
    "# SVM\n",
    "SVM_prime = LinearSVC(C=C_prime)\n",
    "SVM_prime.fit(X_train, y_train)\n",
    "test_score_svm = SVM_prime.score(X_test, y_test)\n",
    "final_score_svm.append(test_score_svm)\n",
    "\n",
    "# KNN\n",
    "KNN_prime = KNeighborsClassifier(n_neighbors=K_prime)\n",
    "KNN_prime.fit(X_train, y_train)\n",
    "test_score_knn = KNN_prime.score(X_test, y_test)\n",
    "final_score_knn.append(test_score_knn)\n",
    "\n",
    "# RF\n",
    "RF_prime = RandomForestClassifier(criterion=R_prime['criterion'], max_depth=R_prime['max_depth'], \n",
    "                                  max_features=R_prime['max_features'], n_estimators=R_prime['n_estimators'])\n",
    "RF_prime.fit(X_train, y_train)\n",
    "test_score_rf = RF_prime.score(X_test, y_test)\n",
    "final_score_rf.append(test_score_rf)\n",
    "\n",
    "print('For Adult.data, 50/50 split...')\n",
    "print('Test score for SVM is:', test_score_svm)\n",
    "print('Test score for KNN is:', test_score_knn)\n",
    "print('Test score for RF is:', test_score_rf)"
   ]
  },
  {
   "cell_type": "markdown",
   "metadata": {},
   "source": [
    "### Adults 80/20"
   ]
  },
  {
   "cell_type": "code",
   "execution_count": 20,
   "metadata": {},
   "outputs": [
    {
     "name": "stdout",
     "output_type": "stream",
     "text": [
      "Training three classifiers using three trials on Adult.data, split=80/20...\n",
      "(Accuracy scores are listed with respect to their individual hyperparameters.)\n",
      "\n",
      "For trial # 1\n",
      "The SVM training accuracy is [0.5854633  0.67637417 0.6770942  0.58356303 0.58685009]\n",
      "The SVM testing accuracy is [0.58564957 0.67617475 0.676789   0.58334613 0.58653256]\n",
      "\n",
      "The KNN training accuracy is [0.99997121 0.85917344 0.86372273 0.83386443 0.83234798 0.82289425\n",
      " 0.82092674]\n",
      "The KNN testing accuracy is [0.73034398 0.65206542 0.75967445 0.72519963 0.77579853 0.75587377\n",
      " 0.78439803]\n",
      "\n",
      "The RF training accuracy is [0.82299028 0.82537042 0.84012206 0.84100507 0.81934312 0.82474659\n",
      " 0.83945984 0.84085152]\n",
      "The RF testing accuracy is [0.82313421 0.82466984 0.83791462 0.84029484 0.81910319 0.82332617\n",
      " 0.83833692 0.84021806]\n",
      "\n",
      "For trial # 2\n",
      "The SVM training accuracy is [0.7901184  0.68993104 0.69317019 0.62238066 0.7803094 ]\n",
      "The SVM testing accuracy is [0.79061732 0.68976505 0.69057125 0.62304208 0.78009828]\n",
      "\n",
      "The KNN training accuracy is [1.         0.85798333 0.8625902  0.83301022 0.83143619 0.82121467\n",
      " 0.81964066]\n",
      "The KNN testing accuracy is [0.72754146 0.64914773 0.7606726  0.72504607 0.77645117 0.75675676\n",
      " 0.78328471]\n",
      "\n",
      "The RF training accuracy is [0.82184801 0.82332616 0.84004529 0.83946947 0.82323979 0.82124347\n",
      " 0.83757869 0.83909512]\n",
      "The RF testing accuracy is [0.82052365 0.82286548 0.83860565 0.83753071 0.82202088 0.8211379\n",
      " 0.83564957 0.83653256]\n",
      "\n",
      "For trial # 3\n",
      "The SVM training accuracy is [0.70177959 0.78494512 0.67912875 0.67577935 0.69033407]\n",
      "The SVM testing accuracy is [0.7027027  0.78570332 0.67978348 0.67567568 0.6911855 ]\n",
      "\n",
      "The KNN training accuracy is [1.         0.85833843 0.8630989  0.83439228 0.83290465 0.82123388\n",
      " 0.82009178]\n",
      "The KNN testing accuracy is [0.72757985 0.64753532 0.75652641 0.72266585 0.77579853 0.754914\n",
      " 0.78447482]\n",
      "\n",
      "The RF training accuracy is [0.82921912 0.82679094 0.83955582 0.83752113 0.82436266 0.82861445\n",
      " 0.83816411 0.83920073]\n",
      "The RF testing accuracy is [0.82885442 0.825668   0.83849048 0.83626382 0.82263514 0.82831695\n",
      " 0.83683968 0.83779945]\n",
      "\n",
      "Reporting the average testing accuracies for all models...\n",
      "\n",
      "For C = [1.0, 10.0, 100.0, 1000.0, 10000.0] ...\n",
      "The average test accuracy for SVM is [0.69298986 0.71721437 0.68238124 0.62735463 0.68593878]\n",
      "\n",
      "For K = [1, 2, 3, 4, 5, 6, 7] ...\n",
      "The average test accuracy for KNN is [0.72848843 0.64958282 0.75895782 0.72430385 0.77601607 0.75584818\n",
      " 0.78405252]\n",
      "\n",
      "For the different parameters of Random Forest...\n",
      "0    {'criterion': 'gini', 'max_depth': 4, 'max_fea...\n",
      "1    {'criterion': 'gini', 'max_depth': 4, 'max_fea...\n",
      "2    {'criterion': 'gini', 'max_depth': 5, 'max_fea...\n",
      "3    {'criterion': 'gini', 'max_depth': 5, 'max_fea...\n",
      "4    {'criterion': 'entropy', 'max_depth': 4, 'max_...\n",
      "5    {'criterion': 'entropy', 'max_depth': 4, 'max_...\n",
      "6    {'criterion': 'entropy', 'max_depth': 5, 'max_...\n",
      "7    {'criterion': 'entropy', 'max_depth': 5, 'max_...\n",
      "Name: params, dtype: object\n",
      "The average test accuracy is [0.82417076 0.82440111 0.83833692 0.83802979 0.82125307 0.82426034\n",
      " 0.83694206 0.83818335]\n",
      "\n",
      "CPU times: user 11min 41s, sys: 5.14 s, total: 11min 46s\n",
      "Wall time: 11min 39s\n"
     ]
    }
   ],
   "source": [
    "%%time\n",
    "\n",
    "## Train every model on three random splits of 80/20\n",
    "\n",
    "## Note: The split is non-deterministic. Repeating three times with the\n",
    "## same split will give you somewhat different subsets. This is why three\n",
    "## trials are needed to reach a consistent conclusion by taking the average.\n",
    "\n",
    "print('Training three classifiers using three trials on Adult.data, split=80/20...')\n",
    "print('(Accuracy scores are listed with respect to their individual hyperparameters.)')\n",
    "\n",
    "# initialize the accuracy lists\n",
    "avg_test_acc_svm = np.zeros((1,5))  # 5 for each value of C penalties\n",
    "avg_test_acc_knn = np.zeros((1,7))  # 7 for each value of K neighbors\n",
    "avg_test_acc_rf = np.zeros((1,8))   # 8 for each parameter combo in RF\n",
    "\n",
    "for i in range(3):   # run three trials\n",
    "    \n",
    "    print('\\nFor trial #', i+1)\n",
    "    \n",
    "    # split data into training/testing (80/20)\n",
    "    X_train, X_test, y_train, y_test = train_test_split(X, y, test_size=0.20)\n",
    "    \n",
    "    # train SVM classifier\n",
    "    C_list = [10e-1, 10e0, 10e1, 10e2, 10e3]\n",
    "    param_grid = {'C': C_list}\n",
    "    clf = LinearSVC()\n",
    "    SVM = GridSearchCV(clf, param_grid, cv=5, return_train_score = True)\n",
    "    SVM.fit(X_train, y_train)\n",
    "    train_acc_svm = SVM.cv_results_['mean_train_score']\n",
    "    test_acc_svm = SVM.cv_results_['mean_test_score']\n",
    "    train_acc_svm = np.asarray(train_acc_svm)\n",
    "    test_acc_svm = np.asarray(test_acc_svm)\n",
    "    print('The SVM training accuracy is',train_acc_svm)\n",
    "    print('The SVM testing accuracy is',test_acc_svm)\n",
    "    avg_test_acc_svm = np.vstack((avg_test_acc_svm, test_acc_svm))\n",
    "    \n",
    "    # train KNN classifier\n",
    "    K_list = list(range(1,8)) \n",
    "    param_grid = {'n_neighbors': K_list}\n",
    "    clf = KNeighborsClassifier()\n",
    "    KNN = GridSearchCV(clf, param_grid, cv=5, return_train_score = True)\n",
    "    KNN.fit(X_train, y_train)\n",
    "    train_acc_knn = KNN.cv_results_['mean_train_score']\n",
    "    test_acc_knn = KNN.cv_results_['mean_test_score']\n",
    "    train_acc_knn = np.asarray(train_acc_knn)\n",
    "    test_acc_knn = np.asarray(test_acc_knn)\n",
    "    print('\\nThe KNN training accuracy is',train_acc_knn)\n",
    "    print('The KNN testing accuracy is',test_acc_knn)\n",
    "    avg_test_acc_knn = np.vstack((avg_test_acc_knn, test_acc_knn))\n",
    "    \n",
    "    # train RandomForest classifier\n",
    "    param_grid = {'n_estimators': [100], 'max_features': ['auto', 'sqrt'],\n",
    "                  'max_depth': [4,5], 'criterion':['gini', 'entropy']}\n",
    "    clf = RandomForestClassifier()\n",
    "    RF = GridSearchCV(clf, param_grid, cv=5, return_train_score = True)\n",
    "    RF.fit(X_train, y_train)\n",
    "    RFdf = pd.DataFrame.from_dict(data=RF.cv_results_)\n",
    "    train_acc_rf = RF.cv_results_['mean_train_score']\n",
    "    test_acc_rf = RF.cv_results_['mean_test_score']\n",
    "    train_acc_rf = np.asarray(train_acc_rf)\n",
    "    test_acc_rf = np.asarray(test_acc_rf)\n",
    "    print('\\nThe RF training accuracy is',train_acc_rf)\n",
    "    print('The RF testing accuracy is',test_acc_rf)\n",
    "    avg_test_acc_rf = np.vstack((avg_test_acc_rf, test_acc_rf))\n",
    "    \n",
    "# Begin displaying the testing accuracies.\n",
    "print('\\nReporting the average testing accuracies for all models...')\n",
    "\n",
    "# Go through and delete first row of zeros (or else the avg suffers)\n",
    "avg_test_acc_svm = np.delete(avg_test_acc_svm, 0, axis=0)\n",
    "avg_test_acc_knn = np.delete(avg_test_acc_knn, 0, axis=0)\n",
    "avg_test_acc_rf = np.delete(avg_test_acc_rf, 0, axis=0)\n",
    "\n",
    "# SVM\n",
    "avg_test_acc_svm = np.mean(avg_test_acc_svm, axis=0)\n",
    "print('\\nFor C =', C_list,'...')\n",
    "print('The average test accuracy for SVM is', avg_test_acc_svm)\n",
    "\n",
    "# KNN\n",
    "avg_test_acc_knn = np.mean(avg_test_acc_knn, axis=0)\n",
    "print('\\nFor K =', K_list,'...')\n",
    "print('The average test accuracy for KNN is', avg_test_acc_knn)\n",
    "\n",
    "# RF\n",
    "params = RFdf['params']\n",
    "avg_test_acc_rf = np.mean(avg_test_acc_rf, axis=0)\n",
    "print('\\nFor the different parameters of Random Forest...')\n",
    "print(params)\n",
    "print('The average test accuracy is', avg_test_acc_rf)\n",
    "print()"
   ]
  },
  {
   "cell_type": "code",
   "execution_count": 21,
   "metadata": {},
   "outputs": [
    {
     "name": "stdout",
     "output_type": "stream",
     "text": [
      "The avg test scores for 80/20:\n",
      "SVM: 0.6811757780507781\n",
      "KNN: 0.7396070989820991\n",
      "RF: 0.8306971744471745\n"
     ]
    },
    {
     "data": {
      "image/png": "[encoded data removed]",
      "text/plain": [
       "<Figure size 144x288 with 2 Axes>"
      ]
     },
     "metadata": {},
     "output_type": "display_data"
    },
    {
     "data": {
      "image/png": "[encoded data removed]",
      "text/plain": [
       "<Figure size 144x288 with 2 Axes>"
      ]
     },
     "metadata": {},
     "output_type": "display_data"
    },
    {
     "data": {
      "image/png": "[encoded data removed]",
      "text/plain": [
       "<Figure size 144x288 with 2 Axes>"
      ]
     },
     "metadata": {},
     "output_type": "display_data"
    }
   ],
   "source": [
    "## Plot the heatmaps\n",
    "\n",
    "print('The avg test scores for 80/20:')\n",
    "print('SVM:', np.mean(avg_test_acc_svm))\n",
    "print('KNN:', np.mean(avg_test_acc_knn))\n",
    "print('RF:', np.mean(avg_test_acc_rf))\n",
    "avg8020 = np.mean([np.mean(avg_test_acc_svm), np.mean(avg_test_acc_knn),\n",
    "                   np.mean(avg_test_acc_rf)])\n",
    "\n",
    "draw_heatmap_linear(avg_test_acc_svm.reshape(5,1), 'test_acc', C_list)\n",
    "draw_heatmap_knn(avg_test_acc_knn.reshape(7,1), 'test_acc', K_list)\n",
    "draw_heatmap_rf(avg_test_acc_rf.reshape(8,1), 'test_acc', params)"
   ]
  },
  {
   "cell_type": "code",
   "execution_count": 22,
   "metadata": {},
   "outputs": [
    {
     "name": "stdout",
     "output_type": "stream",
     "text": [
      "Best C for SVM on Adult is: 10.0\n",
      "Best K for KNN on Adult is: 7\n",
      "Best RandomForest parameters for Adult are {'criterion': 'gini', 'max_depth': 5, 'max_features': 'auto', 'n_estimators': 100}\n"
     ]
    }
   ],
   "source": [
    "## Find the best hyperparameters\n",
    "\n",
    "# SVM - best C\n",
    "C_prime = SVM.best_params_['C']\n",
    "print('Best C for SVM on Adult is:', C_prime)\n",
    "\n",
    "# KNN - best K\n",
    "K_prime = KNN.best_params_['n_neighbors']\n",
    "print('Best K for KNN on Adult is:', K_prime)\n",
    "\n",
    "# RF - best parameters\n",
    "R_prime = RF.best_params_\n",
    "print('Best RandomForest parameters for Adult are', R_prime)"
   ]
  },
  {
   "cell_type": "code",
   "execution_count": 23,
   "metadata": {},
   "outputs": [
    {
     "name": "stdout",
     "output_type": "stream",
     "text": [
      "For Adult.data, 80/20 split...\n",
      "Test score for SVM is: 0.7951788730231844\n",
      "Test score for KNN is: 0.7789037309995394\n",
      "Test score for RF is: 0.8326424074927069\n"
     ]
    }
   ],
   "source": [
    "## Train the optimal classifiers using the best hyperparameters\n",
    "## Display final test scores\n",
    "\n",
    "# SVM\n",
    "SVM_prime = LinearSVC(C=C_prime)\n",
    "SVM_prime.fit(X_train, y_train)\n",
    "test_score_svm = SVM_prime.score(X_test, y_test)\n",
    "final_score_svm.append(test_score_svm)\n",
    "\n",
    "# KNN\n",
    "KNN_prime = KNeighborsClassifier(n_neighbors=K_prime)\n",
    "KNN_prime.fit(X_train, y_train)\n",
    "test_score_knn = KNN_prime.score(X_test, y_test)\n",
    "final_score_knn.append(test_score_knn)\n",
    "\n",
    "# RF\n",
    "RF_prime = RandomForestClassifier(criterion=R_prime['criterion'], max_depth=R_prime['max_depth'], \n",
    "                                  max_features=R_prime['max_features'], n_estimators=R_prime['n_estimators'])\n",
    "RF_prime.fit(X_train, y_train)\n",
    "test_score_rf = RF_prime.score(X_test, y_test)\n",
    "final_score_rf.append(test_score_rf)\n",
    "\n",
    "print('For Adult.data, 80/20 split...')\n",
    "print('Test score for SVM is:', test_score_svm)\n",
    "print('Test score for KNN is:', test_score_knn)\n",
    "print('Test score for RF is:', test_score_rf)"
   ]
  },
  {
   "cell_type": "markdown",
   "metadata": {},
   "source": [
    "## Display the final results"
   ]
  },
  {
   "cell_type": "code",
   "execution_count": 24,
   "metadata": {},
   "outputs": [
    {
     "name": "stdout",
     "output_type": "stream",
     "text": [
      "0.716221274033774 0.7475181837681838 0.7504933504933505\n"
     ]
    },
    {
     "data": {
      "image/png": "[encoded data removed]",
      "text/plain": [
       "<Figure size 432x288 with 1 Axes>"
      ]
     },
     "metadata": {},
     "output_type": "display_data"
    }
   ],
   "source": [
    "## Graph the individual split scores\n",
    "\n",
    "print(avg2080, avg5050, avg8020)\n",
    "\n",
    "objects = ('20/80', '50/50', '80/20')\n",
    "y_pos = np.arange(len(objects))\n",
    "performance = [avg2080, avg5050, avg8020]\n",
    "\n",
    "plt.bar(y_pos, performance, align='center', alpha=0.5)\n",
    "plt.xticks(y_pos, objects)\n",
    "plt.ylabel('Accuracy score')\n",
    "plt.title('Split Results for Adult.data')\n",
    "plt.show()"
   ]
  },
  {
   "cell_type": "code",
   "execution_count": 25,
   "metadata": {},
   "outputs": [
    {
     "name": "stdout",
     "output_type": "stream",
     "text": [
      "For Adult.data, the final test scores are:\n",
      "SVM: 0.7861894613173511\n",
      "KNN: 0.7798302440183115\n",
      "RF: 0.8359885803065419\n"
     ]
    }
   ],
   "source": [
    "## Calculate average test scores for all splits\n",
    "\n",
    "print('For Adult.data, the final test scores are:')\n",
    "print('SVM:', np.mean(final_score_svm))\n",
    "print('KNN:', np.mean(final_score_knn))\n",
    "print('RF:', np.mean(final_score_rf))"
   ]
  },
  {
   "cell_type": "code",
   "execution_count": 26,
   "metadata": {},
   "outputs": [
    {
     "data": {
      "image/png": "[encoded data removed]",
      "text/plain": [
       "<Figure size 432x288 with 1 Axes>"
      ]
     },
     "metadata": {},
     "output_type": "display_data"
    }
   ],
   "source": [
    "## Graph the final test scores\n",
    "\n",
    "objects = ('SVM', 'KNN', 'RandomForests')\n",
    "y_pos = np.arange(len(objects))\n",
    "performance = [np.mean(final_score_svm), np.mean(final_score_knn), np.mean(final_score_rf)]\n",
    "\n",
    "plt.bar(y_pos, performance, align='center', alpha=0.5)\n",
    "plt.xticks(y_pos, objects)\n",
    "plt.ylabel('Accuracy score')\n",
    "plt.title('Final Results for Adult.data')\n",
    "plt.show()"
   ]
  },
  {
   "cell_type": "markdown",
   "metadata": {},
   "source": [
    "# End"
   ]
  }
 ],
 "metadata": {
  "kernelspec": {
   "display_name": "Python 3",
   "language": "python",
   "name": "python3"
  },
  "language_info": {
   "codemirror_mode": {
    "name": "ipython",
    "version": 3
   },
   "file_extension": ".py",
   "mimetype": "text/x-python",
   "name": "python",
   "nbconvert_exporter": "python",
   "pygments_lexer": "ipython3",
   "version": "3.7.0"
  }
 },
 "nbformat": 4,
 "nbformat_minor": 2
}
